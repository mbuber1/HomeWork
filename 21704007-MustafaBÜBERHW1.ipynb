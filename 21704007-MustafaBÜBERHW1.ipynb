{
 "cells": [
  {
   "cell_type": "code",
   "execution_count": null,
   "metadata": {},
   "outputs": [],
   "source": [
    "print('2. Dereceden Denklemin yapısı şu şekildedir : (a.x**2 + b*x + c ) ')\n",
    "a = int(input('Lütfen A değerini Giriniz : '))\n",
    "b = int(input('Lütfen B değerini Giriniz : '))\n",
    "c = int(input('Lütfen C değerini Giriniz : '))\n",
    "discriminant = (b**2-4*a*c)\n",
    "x1 = (-b - discriminant**0.5)/(2*a)\n",
    "x2 = (-b + discriminant**0.5)/(2*a)\n",
    "print('Kök 1 in değeri  :',x1,)\n",
    "print('Kök 2 nin değeri :',x2,)"
   ]
  }
 ],
 "metadata": {
  "kernelspec": {
   "display_name": "Python 3",
   "language": "python",
   "name": "python3"
  },
  "language_info": {
   "codemirror_mode": {
    "name": "ipython",
    "version": 3
   },
   "file_extension": ".py",
   "mimetype": "text/x-python",
   "name": "python",
   "nbconvert_exporter": "python",
   "pygments_lexer": "ipython3",
   "version": "3.6.5"
  }
 },
 "nbformat": 4,
 "nbformat_minor": 2
}
