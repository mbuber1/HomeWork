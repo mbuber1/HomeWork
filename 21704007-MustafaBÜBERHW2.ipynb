{
 "cells": [
  {
   "cell_type": "code",
   "execution_count": null,
   "metadata": {},
   "outputs": [],
   "source": [
    "number =float(input(\"Lütfen  Tam Sayı Değeri Giriniz :\"'\\n'))\n",
    "if  number != 1 and number != 2 and number !=3:\n",
    "    print('Lütfen Programı Yeniden Başlatmayı Deneyiniz ! ')\n",
    "elif number == 1:\n",
    "    print('Burada size üçgenin hipotenüs hesaplamısını yapacaz.Bunu yapabilmemiz için lütfen iki sayı belirleyin')\n",
    "    a = float(input(\"Lütfen 1. sayıyı giriniz :\"))\n",
    "    b = float(input(\"Lütfen 2. sayıyı giriniz :\"))\n",
    "    formul = (a**2+b**2)**0.5\n",
    "    print('Hipotenüsün değeri :',formul,)\n",
    "elif number == 2: \n",
    "    a = float(input(\"Lütfen Sayı Değeri Giriniz :\"))\n",
    "    i = 1\n",
    "    while i <= a:   \n",
    "        print(i) \n",
    "        i += 1\n",
    "elif number == 3:\n",
    "    print(\"Bu Bölümde gireceğiniz 6 sayının aritmetik hesaplama işlemini yapacağız\")\n",
    "    a = float(input(\"Lütfen 1. Sayıyı Giriniiz :\"))\n",
    "    b = float(input(\"Lütfen 2. Sayıyı Giriniiz :\"))\n",
    "    c = float(input(\"Lütfen 3. Sayıyı Giriniiz :\"))\n",
    "    d = float(input(\"Lütfen 4. Sayıyı Giriniiz :\"))\n",
    "    e = float(input(\"Lütfen 5. Sayıyı Giriniiz :\"))\n",
    "    f = float(input(\"Lütfen 6. Sayıyı Giriniiz :\"))\n",
    "    formul = (a+b+c+d+e+f)/6\n",
    "    print(\"Sayıların Aritmetik Ortalaması :\",formul,)"
   ]
  },
  {
   "cell_type": "code",
   "execution_count": null,
   "metadata": {},
   "outputs": [],
   "source": []
  },
  {
   "cell_type": "code",
   "execution_count": null,
   "metadata": {},
   "outputs": [],
   "source": []
  }
 ],
 "metadata": {
  "kernelspec": {
   "display_name": "Python 3",
   "language": "python",
   "name": "python3"
  },
  "language_info": {
   "codemirror_mode": {
    "name": "ipython",
    "version": 3
   },
   "file_extension": ".py",
   "mimetype": "text/x-python",
   "name": "python",
   "nbconvert_exporter": "python",
   "pygments_lexer": "ipython3",
   "version": "3.6.5"
  }
 },
 "nbformat": 4,
 "nbformat_minor": 2
}
